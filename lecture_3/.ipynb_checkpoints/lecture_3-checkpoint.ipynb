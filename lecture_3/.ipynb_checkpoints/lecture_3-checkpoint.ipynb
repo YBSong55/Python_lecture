{
 "cells": [
  {
   "cell_type": "markdown",
   "metadata": {},
   "source": [
    "## < Day 3 >"
   ]
  },
  {
   "cell_type": "code",
   "execution_count": 1,
   "metadata": {},
   "outputs": [
    {
     "name": "stdout",
     "output_type": "stream",
     "text": [
      "홍길동\n",
      "양만춘\n",
      "이순신\n",
      "안중근\n"
     ]
    }
   ],
   "source": [
    "x = ['홍길동','양만춘','이순신','안중근']\n",
    "for i in range(len(x)):\n",
    "    print(x[i])"
   ]
  },
  {
   "cell_type": "markdown",
   "metadata": {},
   "source": [
    "## < for 문 한줄쓰기 >\n",
    "\n",
    "어떠한 리스트에 대해 for문을 통해 요소에 대한 연산이나 처리를 해야 할 경우  \n",
    "[i*2 for i in list(X)] 의 모양으로 처리 가능.  \n",
    "=> i 에 2를 곱하는데 그 i는 for 문에서 list(x)의 요소를 반복 추출  \n",
    "  "
   ]
  },
  {
   "cell_type": "code",
   "execution_count": 9,
   "metadata": {},
   "outputs": [
    {
     "data": {
      "text/plain": [
       "['홍길동', '양만춘장군', '이순신장군', '안중근']"
      ]
     },
     "execution_count": 9,
     "metadata": {},
     "output_type": "execute_result"
    }
   ],
   "source": [
    "jang = [i+'장군' if i== '양만춘' or i =='이순신' else i for i in x]\n",
    "jang"
   ]
  },
  {
   "cell_type": "code",
   "execution_count": 13,
   "metadata": {},
   "outputs": [
    {
     "data": {
      "text/plain": [
       "[10, 10, 10, 10, 10, 10, 10, 10, 10]"
      ]
     },
     "execution_count": 13,
     "metadata": {},
     "output_type": "execute_result"
    }
   ],
   "source": [
    "a=[1,2,3,4,5,6,7,8,9]\n",
    "b=[9,8,7,6,5,4,3,2,1]\n",
    "x = [i+b[i-1] for i in a]\n",
    "x"
   ]
  },
  {
   "cell_type": "markdown",
   "metadata": {},
   "source": [
    "## < if문 포함한 for 문 한줄쓰기 >  \n",
    "  \n",
    "반복하는 작업중 요소에 따라 조건을 걸 일이 많다   \n",
    "else나 elif 없는 상태에서 if 문은 for 문 뒤로 간다  \n",
    "else가 있는 상황에서 if-else문은 for문 앞으로 온다  "
   ]
  },
  {
   "cell_type": "code",
   "execution_count": 15,
   "metadata": {},
   "outputs": [
    {
     "data": {
      "text/plain": [
       "[10, 10, 10, 10]"
      ]
     },
     "execution_count": 15,
     "metadata": {},
     "output_type": "execute_result"
    }
   ],
   "source": [
    "## a리스트의 요소중 5보다 작은 애들에 대해서만 작업을 수행한다\n",
    "y = [i+b[i-1] for i in a if i<5]\n",
    "y"
   ]
  },
  {
   "cell_type": "code",
   "execution_count": 20,
   "metadata": {},
   "outputs": [
    {
     "data": {
      "text/plain": [
       "[10, 10, 10, 10, 10, 6, 7, 8, 9]"
      ]
     },
     "execution_count": 20,
     "metadata": {},
     "output_type": "execute_result"
    }
   ],
   "source": [
    "## a리스트의 요소중 5보다 작은 애들에 작업 수행하고 5보다 큰 요소의 경우 그냥 출력한다\n",
    "y = [i+b[i-1] if i<=5 else i for i in a]\n",
    "y"
   ]
  },
  {
   "cell_type": "markdown",
   "metadata": {},
   "source": [
    "## < 전역변수 >"
   ]
  },
  {
   "cell_type": "markdown",
   "metadata": {},
   "source": [
    "전역변수랑 특정 함수내에 존재하는게 아니라 해당 스크립트의 모든 곳에서 사용 가능한 변수를 뜻함  \n",
    "  \n",
    " global variable "
   ]
  },
  {
   "cell_type": "code",
   "execution_count": 17,
   "metadata": {},
   "outputs": [
    {
     "name": "stdout",
     "output_type": "stream",
     "text": [
      "내부 c, d의 합은 300입니다\n",
      "외부 c, d의 합은 30입니다\n"
     ]
    }
   ],
   "source": [
    "def print_Sum():\n",
    "    ## 함수 내 변수들은 전역변수 X\n",
    "    c=100\n",
    "    d=200\n",
    "    result = c+d\n",
    "    print(\"내부 c, d의 합은 {}입니다\".format(result))\n",
    "\n",
    "## 다음의 a,b는 전역변수\n",
    "c=10\n",
    "d=20\n",
    "result = c+d \n",
    "print_Sum()\n",
    "print(\"외부 c, d의 합은 {}입니다\".format(result))"
   ]
  },
  {
   "cell_type": "markdown",
   "metadata": {},
   "source": [
    "## < 함수 인풋 인자 디폴트 정하기 >"
   ]
  },
  {
   "cell_type": "code",
   "execution_count": 23,
   "metadata": {},
   "outputs": [
    {
     "name": "stdout",
     "output_type": "stream",
     "text": [
      "hell devil\n",
      "heaven angel\n",
      "heaven devil\n",
      "hell angel\n"
     ]
    }
   ],
   "source": [
    "def concat_String(a='hell',b='devil'):\n",
    "    return a+\" \"+b\n",
    "c ='heaven'\n",
    "d = 'angel'\n",
    "print(concat_String())\n",
    "print(concat_String(c,d))\n",
    "print(concat_String(c))\n",
    "print(concat_String(b=d))"
   ]
  },
  {
   "cell_type": "markdown",
   "metadata": {},
   "source": [
    "함수의 인풋 인자 란에 초기값을 설정하면 함수를 호출할때 인자값을 주지 않아도 디폴트 값으로 출력함  \n",
    "  \n",
    "concat_String(b=d)의 경우 키워드 인자를 통해 b인자의 자리에 d를 주는 것이다. a의 자리는 디폴트 값이 그대로 들어간다.\n",
    "  \n",
    "concat_String(c)의 경우 위치 인자로 첫번째 자리의 a인자에 c가 들어가고 b의 위치엔 디폴트 값 b가 들어간다"
   ]
  }
 ],
 "metadata": {
  "kernelspec": {
   "display_name": "Python 3",
   "language": "python",
   "name": "python3"
  },
  "language_info": {
   "codemirror_mode": {
    "name": "ipython",
    "version": 3
   },
   "file_extension": ".py",
   "mimetype": "text/x-python",
   "name": "python",
   "nbconvert_exporter": "python",
   "pygments_lexer": "ipython3",
   "version": "3.7.6"
  }
 },
 "nbformat": 4,
 "nbformat_minor": 4
}
