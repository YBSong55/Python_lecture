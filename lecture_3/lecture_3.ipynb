{
 "cells": [
  {
   "cell_type": "markdown",
   "metadata": {},
   "source": [
    "## < Day 3 >"
   ]
  },
  {
   "cell_type": "code",
   "execution_count": 1,
   "metadata": {},
   "outputs": [
    {
     "name": "stdout",
     "output_type": "stream",
     "text": [
      "홍길동\n",
      "양만춘\n",
      "이순신\n",
      "안중근\n"
     ]
    }
   ],
   "source": [
    "x = ['홍길동','양만춘','이순신','안중근']\n",
    "for i in range(len(x)):\n",
    "    print(x[i])"
   ]
  },
  {
   "cell_type": "markdown",
   "metadata": {},
   "source": [
    "## < for 문 한줄쓰기 >\n",
    "\n",
    "어떠한 리스트에 대해 for문을 통해 요소에 대한 연산이나 처리를 해야 할 경우  \n",
    "[i*2 for i in list(X)] 의 모양으로 처리 가능.  \n",
    "=> i 에 2를 곱하는데 그 i는 for 문에서 list(x)의 요소를 반복 추출  \n",
    "  "
   ]
  },
  {
   "cell_type": "code",
   "execution_count": 9,
   "metadata": {},
   "outputs": [
    {
     "data": {
      "text/plain": [
       "['홍길동', '양만춘장군', '이순신장군', '안중근']"
      ]
     },
     "execution_count": 9,
     "metadata": {},
     "output_type": "execute_result"
    }
   ],
   "source": [
    "jang = [i+'장군' if i== '양만춘' or i =='이순신' else i for i in x]\n",
    "jang"
   ]
  },
  {
   "cell_type": "code",
   "execution_count": 13,
   "metadata": {},
   "outputs": [
    {
     "data": {
      "text/plain": [
       "[10, 10, 10, 10, 10, 10, 10, 10, 10]"
      ]
     },
     "execution_count": 13,
     "metadata": {},
     "output_type": "execute_result"
    }
   ],
   "source": [
    "a=[1,2,3,4,5,6,7,8,9]\n",
    "b=[9,8,7,6,5,4,3,2,1]\n",
    "x = [i+b[i-1] for i in a]\n",
    "x"
   ]
  },
  {
   "cell_type": "markdown",
   "metadata": {},
   "source": [
    "## < if문 포함한 for 문 한줄쓰기 >  \n",
    "  \n",
    "반복하는 작업중 요소에 따라 조건을 걸 일이 많다   \n",
    "else나 elif 없는 상태에서 if 문은 for 문 뒤로 간다  \n",
    "else가 있는 상황에서 if-else문은 for문 앞으로 온다  "
   ]
  },
  {
   "cell_type": "code",
   "execution_count": 15,
   "metadata": {},
   "outputs": [
    {
     "data": {
      "text/plain": [
       "[10, 10, 10, 10]"
      ]
     },
     "execution_count": 15,
     "metadata": {},
     "output_type": "execute_result"
    }
   ],
   "source": [
    "## a리스트의 요소중 5보다 작은 애들에 대해서만 작업을 수행한다\n",
    "y = [i+b[i-1] for i in a if i<5]\n",
    "y"
   ]
  },
  {
   "cell_type": "code",
   "execution_count": 20,
   "metadata": {},
   "outputs": [
    {
     "data": {
      "text/plain": [
       "[10, 10, 10, 10, 10, 6, 7, 8, 9]"
      ]
     },
     "execution_count": 20,
     "metadata": {},
     "output_type": "execute_result"
    }
   ],
   "source": [
    "## a리스트의 요소중 5보다 작은 애들에 작업 수행하고 5보다 큰 요소의 경우 그냥 출력한다\n",
    "y = [i+b[i-1] if i<=5 else i for i in a]\n",
    "y"
   ]
  },
  {
   "cell_type": "markdown",
   "metadata": {},
   "source": [
    "## < 전역변수 >"
   ]
  },
  {
   "cell_type": "markdown",
   "metadata": {},
   "source": [
    "전역변수랑 특정 함수내에 존재하는게 아니라 해당 스크립트의 모든 곳에서 사용 가능한 변수를 뜻함  \n",
    "  \n",
    " global variable "
   ]
  },
  {
   "cell_type": "code",
   "execution_count": 17,
   "metadata": {},
   "outputs": [
    {
     "name": "stdout",
     "output_type": "stream",
     "text": [
      "내부 c, d의 합은 300입니다\n",
      "외부 c, d의 합은 30입니다\n"
     ]
    }
   ],
   "source": [
    "def print_Sum():\n",
    "    ## 함수 내 변수들은 전역변수 X\n",
    "    c=100\n",
    "    d=200\n",
    "    result = c+d\n",
    "    print(\"내부 c, d의 합은 {}입니다\".format(result))\n",
    "\n",
    "## 다음의 a,b는 전역변수\n",
    "c=10\n",
    "d=20\n",
    "result = c+d \n",
    "print_Sum()\n",
    "print(\"외부 c, d의 합은 {}입니다\".format(result))"
   ]
  },
  {
   "cell_type": "markdown",
   "metadata": {},
   "source": [
    "## < 함수 매개변수 디폴트 정하기 >"
   ]
  },
  {
   "cell_type": "code",
   "execution_count": 23,
   "metadata": {
    "scrolled": true
   },
   "outputs": [
    {
     "name": "stdout",
     "output_type": "stream",
     "text": [
      "hell devil\n",
      "heaven angel\n",
      "heaven devil\n",
      "hell angel\n"
     ]
    }
   ],
   "source": [
    "def concat_String(a='hell',b='devil'):\n",
    "    return a+\" \"+b\n",
    "c ='heaven'\n",
    "d = 'angel'\n",
    "print(concat_String())\n",
    "print(concat_String(c,d))\n",
    "print(concat_String(c))\n",
    "print(concat_String(b=d))"
   ]
  },
  {
   "cell_type": "markdown",
   "metadata": {},
   "source": [
    "함수의 인풋 인자 란에 초기값을 설정하면 함수를 호출할때 인자값을 주지 않아도 디폴트 값으로 출력함  \n",
    "  \n",
    "concat_String(b=d)의 경우 키워드 인자를 통해 b인자의 자리에 d를 주는 것이다. a의 자리는 디폴트 값이 그대로 들어간다.\n",
    "  \n",
    "concat_String(c)의 경우 위치 인자로 첫번째 자리의 a인자에 c가 들어가고 b의 위치엔 디폴트 값 b가 들어간다"
   ]
  },
  {
   "cell_type": "markdown",
   "metadata": {},
   "source": [
    "## < 가변인자!!!!!!! 중요!!!!!!!!!!!! >  \n",
    " \n",
    "인자의 수가 정해지지 않은 함수를 쓰고 싶을때!!!!   \n",
    "사용자가 쳐 넣는 만큼 인자를 받아서 쓰고싶은 함수일때!!!\n",
    "  \n",
    "함수(*) 즉 매개변수 앞에 * 별표를 넣는다!!!!"
   ]
  },
  {
   "cell_type": "markdown",
   "metadata": {},
   "source": [
    "다수의 인자를 받을 수 있도록 했다면 다수의 인자를 넣을수도 있어야 한다!  \n",
    "함수 호출 시에 다수의 인자를 넣고 싶으면 동일하게 인풋 리스트, 튜플 등 변수 앞에 *을 붙인다!"
   ]
  },
  {
   "cell_type": "code",
   "execution_count": 46,
   "metadata": {},
   "outputs": [],
   "source": [
    "def sum_all_position(*intnum):\n",
    "    result = 0\n",
    "    for i in intnum:\n",
    "        result += i\n",
    "    return result"
   ]
  },
  {
   "cell_type": "code",
   "execution_count": 47,
   "metadata": {
    "scrolled": true
   },
   "outputs": [
    {
     "data": {
      "text/plain": [
       "450"
      ]
     },
     "execution_count": 47,
     "metadata": {},
     "output_type": "execute_result"
    }
   ],
   "source": [
    "my_score = (10,20,30,40,50,60,70,80,90)\n",
    "sum_all_position(*my_score)"
   ]
  },
  {
   "cell_type": "markdown",
   "metadata": {},
   "source": [
    "앞서 변수명 앞에 *를 붙이는 것은 위치인자를 다수 받는 것  \n",
    "\n",
    "키워드 인자로 받고싶다면 변수명 앞에 **을 넣는다."
   ]
  },
  {
   "cell_type": "code",
   "execution_count": 48,
   "metadata": {},
   "outputs": [],
   "source": [
    "def sum_all_key(**intnum):\n",
    "    result = 0\n",
    "    if intnum:\n",
    "        for index , num in intnum.items():\n",
    "            print(\"{}의 점수는 {}\".format(index,num))\n",
    "            result += num\n",
    "    return result"
   ]
  },
  {
   "cell_type": "code",
   "execution_count": 49,
   "metadata": {
    "scrolled": true
   },
   "outputs": [
    {
     "name": "stdout",
     "output_type": "stream",
     "text": [
      "you의 점수는 80\n",
      "me의 점수는 90\n",
      "she의 점수는 50\n",
      "he의 점수는 40\n"
     ]
    },
    {
     "data": {
      "text/plain": [
       "260"
      ]
     },
     "execution_count": 49,
     "metadata": {},
     "output_type": "execute_result"
    }
   ],
   "source": [
    "sum_all_key(you=80,me=90,she=50,he=40)"
   ]
  },
  {
   "cell_type": "markdown",
   "metadata": {},
   "source": [
    "이때 주의할 점은 함수의 매개변수로 **즉 키워드 인자를 받는다고 했으면 받을 때  \n",
    "꼭 키워드 인자로 받아야한다. 위의 예시처럼!"
   ]
  },
  {
   "cell_type": "code",
   "execution_count": 50,
   "metadata": {
    "scrolled": true
   },
   "outputs": [
    {
     "name": "stdout",
     "output_type": "stream",
     "text": [
      "230\n"
     ]
    },
    {
     "ename": "TypeError",
     "evalue": "sum_all_key() takes 0 positional arguments but 4 were given",
     "output_type": "error",
     "traceback": [
      "\u001b[1;31m---------------------------------------------------------------------------\u001b[0m",
      "\u001b[1;31mTypeError\u001b[0m                                 Traceback (most recent call last)",
      "\u001b[1;32m<ipython-input-50-e1e29bad3d1d>\u001b[0m in \u001b[0;36m<module>\u001b[1;34m\u001b[0m\n\u001b[0;32m      1\u001b[0m \u001b[0mprint\u001b[0m\u001b[1;33m(\u001b[0m\u001b[0msum_all_position\u001b[0m\u001b[1;33m(\u001b[0m\u001b[1;36m80\u001b[0m\u001b[1;33m,\u001b[0m\u001b[1;36m70\u001b[0m\u001b[1;33m,\u001b[0m\u001b[1;36m60\u001b[0m\u001b[1;33m,\u001b[0m\u001b[1;36m20\u001b[0m\u001b[1;33m)\u001b[0m\u001b[1;33m)\u001b[0m\u001b[1;33m\u001b[0m\u001b[1;33m\u001b[0m\u001b[0m\n\u001b[1;32m----> 2\u001b[1;33m \u001b[0mprint\u001b[0m\u001b[1;33m(\u001b[0m\u001b[0msum_all_key\u001b[0m\u001b[1;33m(\u001b[0m\u001b[1;36m80\u001b[0m\u001b[1;33m,\u001b[0m\u001b[1;36m70\u001b[0m\u001b[1;33m,\u001b[0m\u001b[1;36m60\u001b[0m\u001b[1;33m,\u001b[0m\u001b[1;36m20\u001b[0m\u001b[1;33m)\u001b[0m\u001b[1;33m)\u001b[0m\u001b[1;33m\u001b[0m\u001b[1;33m\u001b[0m\u001b[0m\n\u001b[0m",
      "\u001b[1;31mTypeError\u001b[0m: sum_all_key() takes 0 positional arguments but 4 were given"
     ]
    }
   ],
   "source": [
    "print(sum_all_position(80,70,60,20))\n",
    "print(sum_all_key(80,70,60,20))"
   ]
  },
  {
   "cell_type": "markdown",
   "metadata": {},
   "source": [
    "안그러면 위의 예시처럼 위치 인자는 안받는데 위치인자 왜주냐고 지랄해~"
   ]
  },
  {
   "cell_type": "markdown",
   "metadata": {},
   "source": [
    "### <발전 모형>  \n",
    "  \n",
    "  https://wikidocs.net/22801 패킹 언패킹 참고자료\n",
    "  \n",
    "  \n",
    "  \n",
    "  \n",
    " \n",
    "난 로버스트 하게 위치 인자도 주어지는대로, 키워드 인자도 주어지는대로 받고싶은데??"
   ]
  },
  {
   "cell_type": "markdown",
   "metadata": {},
   "source": [
    "둘다쓰면 됨! 위치인자가 앞이니까  \n",
    "별 한개 => 위치인자 먼저  \n",
    "별 두개 => 키워드 인자 나중"
   ]
  },
  {
   "cell_type": "code",
   "execution_count": 44,
   "metadata": {},
   "outputs": [
    {
     "name": "stdout",
     "output_type": "stream",
     "text": [
      "아버지 : 홍길동\n",
      "어머니 : 심사임당\n",
      "누나 : 김태희\n",
      "여동생 : 윤아\n"
     ]
    }
   ],
   "source": [
    "def print_family_name(*parents, **sibling):\n",
    "      print(\"아버지 :\", parents[0])\n",
    "      print(\"어머니 :\", parents[1])\n",
    "      if sibling:\n",
    "           for title, name in sibling.items():\n",
    "                 print('{} : {}'.format(title, name))\n",
    "\n",
    "print_family_name(\"홍길동\", '심사임당', 누나='김태희', 여동생='윤아')"
   ]
  },
  {
   "cell_type": "code",
   "execution_count": 45,
   "metadata": {
    "scrolled": false
   },
   "outputs": [
    {
     "name": "stdout",
     "output_type": "stream",
     "text": [
      "아버지 : 홍길동\n",
      "어머니 : 심사임당\n",
      "누나 : 김태희\n",
      "여동생 : 윤아\n"
     ]
    }
   ],
   "source": [
    "mom_dad = ['홍길동','심사임당']\n",
    "siblings = {'누나':'김태희', '여동생':'윤아'}\n",
    "print_family_name(*mom_dad,**siblings)"
   ]
  },
  {
   "cell_type": "markdown",
   "metadata": {},
   "source": [
    "####  items()   함수는 딕셔너리 자료형의 key:value 를 튜플 쌍으로 돌려준다\n",
    "####  keys()     함수는 key의 값들을 리턴한다\n",
    "####  values()  함수는 딕셔너리의 value값들만을 리턴한다"
   ]
  },
  {
   "cell_type": "code",
   "execution_count": 51,
   "metadata": {},
   "outputs": [],
   "source": [
    "def start(func, *args, **kwargs):\n",
    "    print(\"함수를 시작합니다.\")\n",
    "    return func(*args, **kwargs)"
   ]
  },
  {
   "cell_type": "code",
   "execution_count": 62,
   "metadata": {
    "scrolled": true
   },
   "outputs": [
    {
     "name": "stdout",
     "output_type": "stream",
     "text": [
      "함수를 시작합니다.\n",
      "1~~2~~3~~4\n",
      "함수를 시작합니다.\n",
      "[1, 2, 3, 4]\n"
     ]
    }
   ],
   "source": [
    "xx=[1,2,3,4]\n",
    "start(print,*xx,sep = '~~')\n",
    "## *을 안붙여주면 다음과 같은 상황 발생!!\n",
    "start(print,xx,sep = '~~')\n",
    "## sep는 print()함수가 가지는 키워드 인자임"
   ]
  },
  {
   "cell_type": "markdown",
   "metadata": {},
   "source": [
    "## <재귀함수>\n"
   ]
  },
  {
   "cell_type": "markdown",
   "metadata": {},
   "source": [
    "재귀함수의 기본은 탈출 조건을 꼭!!!! 설정한다는 것 무우조건!!!!! \n",
    "  \n",
    "그담에 탈출 조건이 아닌 경우에는 함수 자기 자신을 다시 호풀해서 쓰는 방식을 재귀함수라고 한다.  \n",
    "예시는 다음과 같다"
   ]
  },
  {
   "cell_type": "code",
   "execution_count": 64,
   "metadata": {},
   "outputs": [
    {
     "name": "stdout",
     "output_type": "stream",
     "text": [
      "120\n"
     ]
    }
   ],
   "source": [
    "def factorial(n):\n",
    "    if n <= 1:\n",
    "        return 1\n",
    "    else:\n",
    "        return n*factorial(n-1)\n",
    "    \n",
    "n=5\n",
    "result = factorial(n)\n",
    "print(result)"
   ]
  },
  {
   "cell_type": "markdown",
   "metadata": {},
   "source": [
    "## <다양한 자료형> 리스트(list)"
   ]
  },
  {
   "cell_type": "code",
   "execution_count": 70,
   "metadata": {},
   "outputs": [
    {
     "data": {
      "text/plain": [
       "list"
      ]
     },
     "execution_count": 70,
     "metadata": {},
     "output_type": "execute_result"
    }
   ],
   "source": [
    "score_lst = [6,5,4,5,6,7,8,9,2,3,4,4]\n",
    "type(score_lst)"
   ]
  },
  {
   "cell_type": "markdown",
   "metadata": {},
   "source": [
    "인덱싱~ 인덱스로 자료에서 요소 찾거나 부분 자르기"
   ]
  },
  {
   "cell_type": "code",
   "execution_count": 72,
   "metadata": {},
   "outputs": [
    {
     "data": {
      "text/plain": [
       "[5, 4]"
      ]
     },
     "execution_count": 72,
     "metadata": {},
     "output_type": "execute_result"
    }
   ],
   "source": [
    "score_lst[1:3]"
   ]
  },
  {
   "cell_type": "code",
   "execution_count": 75,
   "metadata": {},
   "outputs": [
    {
     "data": {
      "text/plain": [
       "[2, 3, 4]"
      ]
     },
     "execution_count": 75,
     "metadata": {},
     "output_type": "execute_result"
    }
   ],
   "source": [
    "score_lst[-4:-1]"
   ]
  },
  {
   "cell_type": "code",
   "execution_count": 76,
   "metadata": {},
   "outputs": [
    {
     "data": {
      "text/plain": [
       "['할', '많', '하', '않']"
      ]
     },
     "execution_count": 76,
     "metadata": {},
     "output_type": "execute_result"
    }
   ],
   "source": [
    "list(\"할많하않\")"
   ]
  },
  {
   "cell_type": "code",
   "execution_count": 78,
   "metadata": {},
   "outputs": [
    {
     "data": {
      "text/plain": [
       "['h', 'e', 'l', 'l', 'o', 'w']"
      ]
     },
     "execution_count": 78,
     "metadata": {},
     "output_type": "execute_result"
    }
   ],
   "source": [
    "list(\"hellow\")"
   ]
  },
  {
   "cell_type": "code",
   "execution_count": 84,
   "metadata": {
    "scrolled": true
   },
   "outputs": [
    {
     "data": {
      "text/plain": [
       "[0, 2, 4, 6, 8, 10, 12, 14, 16, 18]"
      ]
     },
     "execution_count": 84,
     "metadata": {},
     "output_type": "execute_result"
    }
   ],
   "source": [
    "list(range(0,20,2))"
   ]
  },
  {
   "cell_type": "code",
   "execution_count": 86,
   "metadata": {},
   "outputs": [
    {
     "data": {
      "text/plain": [
       "'고춘몽존버'"
      ]
     },
     "execution_count": 86,
     "metadata": {},
     "output_type": "execute_result"
    }
   ],
   "source": [
    "indexing = [1,2,['고춘몽','유투브','ㅎㅎ'],3,4,5,['고추니','존버'],6,7,8,9]\n",
    "indexing[2][0]+indexing[6][1]"
   ]
  },
  {
   "cell_type": "markdown",
   "metadata": {},
   "source": [
    "### <append()함수>"
   ]
  },
  {
   "cell_type": "code",
   "execution_count": 87,
   "metadata": {},
   "outputs": [
    {
     "data": {
      "text/plain": [
       "[1, 2, ['고춘몽', '유투브', 'ㅎㅎ'], 3, 4, 5, ['고추니', '존버'], 6, 7, 8, 9, [10, 20, 30]]"
      ]
     },
     "execution_count": 87,
     "metadata": {},
     "output_type": "execute_result"
    }
   ],
   "source": [
    "indexing.append([10,20,30])\n",
    "indexing"
   ]
  },
  {
   "cell_type": "markdown",
   "metadata": {},
   "source": [
    "### <요소 삭제 함수들 del, pop, remove >"
   ]
  },
  {
   "cell_type": "code",
   "execution_count": 92,
   "metadata": {},
   "outputs": [
    {
     "name": "stdout",
     "output_type": "stream",
     "text": [
      "pop 함수는 지정 index의 요소를 리턴하고 리스트에서 해당 요소 삭제. 결과 :  9\n",
      "[1, 2, ['고춘몽', '유투브', 'ㅎㅎ'], 3, 4, 5, ['고추니', '존버'], 6, 7, 8]\n"
     ]
    }
   ],
   "source": [
    "indexing = [1,2,['고춘몽','유투브','ㅎㅎ'],3,4,5,['고추니','존버'],6,7,8,9]\n",
    "indexing_pop = indexing.pop()\n",
    "print(\"pop 함수는 지정 index의 요소를 리턴하고 리스트에서 해당 요소 삭제. 결과 : \",indexing_pop)\n",
    "print(indexing)"
   ]
  },
  {
   "cell_type": "code",
   "execution_count": 98,
   "metadata": {},
   "outputs": [
    {
     "name": "stdout",
     "output_type": "stream",
     "text": [
      "del 함수는 지정 index 요소 삭제 & 리턴이 없음. 삭제 결과를 새로운 리스트로 재지정 필요 x:  \n",
      " [1, 2, ['고춘몽', '유투브', 'ㅎㅎ'], 3, 4, 5, ['고추니', '존버'], 6, 7, 8]\n"
     ]
    }
   ],
   "source": [
    "indexing = [1,2,['고춘몽','유투브','ㅎㅎ'],3,4,5,['고추니','존버'],6,7,8,9]\n",
    "del indexing[-1]\n",
    "print(\"del 함수는 지정 index 요소 삭제 & 리턴이 없음. 삭제 결과를 새로운 리스트로 재지정 필요 x: \",\"\\n\",indexing)"
   ]
  },
  {
   "cell_type": "code",
   "execution_count": 102,
   "metadata": {},
   "outputs": [
    {
     "name": "stdout",
     "output_type": "stream",
     "text": [
      "del 함수는 요소들 중 지정 요소와 동일한 요소 1개를 삭제 후 리스트 리턴 :  None\n",
      "[1, 2, ['고춘몽', '유투브', 'ㅎㅎ'], 3, 4, 5, ['고추니', '존버'], 6, 7, 8, '해읭']\n"
     ]
    }
   ],
   "source": [
    "indexing = [1,2,['고춘몽','유투브','ㅎㅎ'],3,4,5,['고추니','존버'],6,7,8,9,'해읭']\n",
    "indexing_remove = indexing.remove(9)\n",
    "print(\"del 함수는 요소들 중 지정 요소와 동일한 요소 1개를 삭제. 리턴값 없음 : \",indexing_remove)\n",
    "print(indexing)"
   ]
  },
  {
   "cell_type": "markdown",
   "metadata": {},
   "source": [
    "## <다양한 자료형> 딕셔너리(dictionary)"
   ]
  },
  {
   "cell_type": "code",
   "execution_count": 104,
   "metadata": {},
   "outputs": [
    {
     "data": {
      "text/plain": [
       "4"
      ]
     },
     "execution_count": 104,
     "metadata": {},
     "output_type": "execute_result"
    }
   ],
   "source": [
    "pp = {'you':80,'me':90,'she':70,'he':60}\n",
    "len(pp)"
   ]
  },
  {
   "cell_type": "code",
   "execution_count": 106,
   "metadata": {},
   "outputs": [
    {
     "data": {
      "text/plain": [
       "90"
      ]
     },
     "execution_count": 106,
     "metadata": {},
     "output_type": "execute_result"
    }
   ],
   "source": [
    "pp.get('me')"
   ]
  },
  {
   "cell_type": "markdown",
   "metadata": {},
   "source": [
    "get 함수는 해당 key값을 가지는 value를 가져온다  \n",
    "딕셔너리 안에 찾으려는 Key 값이 없을 경우 미리 정해 둔 디폴트 값을 대신 가져오게 하고 싶을 때에는 get(x, '디폴트 값')을 사용하면 편리하다."
   ]
  },
  {
   "cell_type": "code",
   "execution_count": 128,
   "metadata": {},
   "outputs": [
    {
     "data": {
      "text/plain": [
       "'음슴'"
      ]
     },
     "execution_count": 128,
     "metadata": {},
     "output_type": "execute_result"
    }
   ],
   "source": [
    "pp.get('them','음슴')"
   ]
  },
  {
   "cell_type": "code",
   "execution_count": 114,
   "metadata": {
    "scrolled": true
   },
   "outputs": [
    {
     "data": {
      "text/plain": [
       "80"
      ]
     },
     "execution_count": 114,
     "metadata": {},
     "output_type": "execute_result"
    }
   ],
   "source": [
    "pp['you']"
   ]
  },
  {
   "cell_type": "code",
   "execution_count": 107,
   "metadata": {},
   "outputs": [
    {
     "data": {
      "text/plain": [
       "dict_values([80, 90, 70, 60])"
      ]
     },
     "execution_count": 107,
     "metadata": {},
     "output_type": "execute_result"
    }
   ],
   "source": [
    "pp.values()"
   ]
  },
  {
   "cell_type": "code",
   "execution_count": 108,
   "metadata": {},
   "outputs": [
    {
     "data": {
      "text/plain": [
       "dict_keys(['you', 'me', 'she', 'he'])"
      ]
     },
     "execution_count": 108,
     "metadata": {},
     "output_type": "execute_result"
    }
   ],
   "source": [
    "pp.keys()"
   ]
  },
  {
   "cell_type": "code",
   "execution_count": 109,
   "metadata": {},
   "outputs": [
    {
     "data": {
      "text/plain": [
       "dict_items([('you', 80), ('me', 90), ('she', 70), ('he', 60)])"
      ]
     },
     "execution_count": 109,
     "metadata": {},
     "output_type": "execute_result"
    }
   ],
   "source": [
    "pp.items()"
   ]
  },
  {
   "cell_type": "code",
   "execution_count": 122,
   "metadata": {},
   "outputs": [
    {
     "data": {
      "text/plain": [
       "['you', 'me', 'she', 'he']"
      ]
     },
     "execution_count": 122,
     "metadata": {},
     "output_type": "execute_result"
    }
   ],
   "source": [
    "# key list 만들기\n",
    "ppp=list(pp.keys())\n",
    "ppp"
   ]
  },
  {
   "cell_type": "code",
   "execution_count": 123,
   "metadata": {},
   "outputs": [
    {
     "data": {
      "text/plain": [
       "False"
      ]
     },
     "execution_count": 123,
     "metadata": {},
     "output_type": "execute_result"
    }
   ],
   "source": [
    "'them' in pp"
   ]
  },
  {
   "cell_type": "code",
   "execution_count": 124,
   "metadata": {},
   "outputs": [
    {
     "data": {
      "text/plain": [
       "True"
      ]
     },
     "execution_count": 124,
     "metadata": {},
     "output_type": "execute_result"
    }
   ],
   "source": [
    "'me' in pp"
   ]
  },
  {
   "cell_type": "code",
   "execution_count": 131,
   "metadata": {},
   "outputs": [
    {
     "data": {
      "text/plain": [
       "False"
      ]
     },
     "execution_count": 131,
     "metadata": {},
     "output_type": "execute_result"
    }
   ],
   "source": [
    "90 in pp"
   ]
  },
  {
   "cell_type": "code",
   "execution_count": 132,
   "metadata": {},
   "outputs": [
    {
     "data": {
      "text/plain": [
       "True"
      ]
     },
     "execution_count": 132,
     "metadata": {},
     "output_type": "execute_result"
    }
   ],
   "source": [
    "90 in list(pp.values())"
   ]
  },
  {
   "cell_type": "markdown",
   "metadata": {},
   "source": [
    "### < 딕셔너리 병합 >"
   ]
  },
  {
   "cell_type": "code",
   "execution_count": 147,
   "metadata": {},
   "outputs": [
    {
     "name": "stdout",
     "output_type": "stream",
     "text": [
      "pp에 qq를 덮어쓴다. qq의 데이터가 보존된다\n"
     ]
    },
    {
     "data": {
      "text/plain": [
       "{'you': 30, 'me': 90, 'she': 70, 'he': 60, 'his': 0, 'her': 10, 'they': 20}"
      ]
     },
     "execution_count": 147,
     "metadata": {},
     "output_type": "execute_result"
    }
   ],
   "source": [
    "pp = {'you':80,'me':90,'she':70,'he':60}\n",
    "qq = {'his':0,'her':10,'they':20,'you':30}\n",
    "\n",
    "# 서로 다른 두 딕셔너리 합치기\n",
    "print(\"pp에 qq를 덮어쓴다. qq의 데이터가 보존된다\")\n",
    "pp.update(qq)\n",
    "pp"
   ]
  },
  {
   "cell_type": "code",
   "execution_count": 146,
   "metadata": {},
   "outputs": [
    {
     "name": "stdout",
     "output_type": "stream",
     "text": [
      "qq에 pp를 덮어쓴다. pp의 데이터가 보존된다\n"
     ]
    },
    {
     "data": {
      "text/plain": [
       "{'his': 0, 'her': 10, 'they': 20, 'you': 80, 'me': 90, 'she': 70, 'he': 60}"
      ]
     },
     "execution_count": 146,
     "metadata": {},
     "output_type": "execute_result"
    }
   ],
   "source": [
    "pp = {'you':80,'me':90,'she':70,'he':60}\n",
    "qq = {'his':0,'her':10,'they':20,'you':30}\n",
    "\n",
    "# 서로 다른 두 딕셔너리 합치기\n",
    "print(\"qq에 pp를 덮어쓴다. pp의 데이터가 보존된다\")\n",
    "qq.update(pp)\n",
    "qq"
   ]
  },
  {
   "cell_type": "code",
   "execution_count": 145,
   "metadata": {},
   "outputs": [
    {
     "name": "stdout",
     "output_type": "stream",
     "text": [
      "pp에 qq를 덮어쓴다. qq의 데이터가 보존된다\n"
     ]
    },
    {
     "data": {
      "text/plain": [
       "{'you': 30, 'me': 90, 'she': 70, 'he': 60, 'his': 0, 'her': 10, 'they': 20}"
      ]
     },
     "execution_count": 145,
     "metadata": {},
     "output_type": "execute_result"
    }
   ],
   "source": [
    "# 서로 다른 두 딕셔너리 합치기 간단한 버젼\n",
    "pp = {'you':80,'me':90,'she':70,'he':60}\n",
    "qq = {'his':0,'her':10,'they':20,'you':30}\n",
    "print(\"pp에 qq를 덮어쓴다. qq의 데이터가 보존된다\")\n",
    "dict(pp,**qq)"
   ]
  },
  {
   "cell_type": "code",
   "execution_count": 144,
   "metadata": {},
   "outputs": [
    {
     "name": "stdout",
     "output_type": "stream",
     "text": [
      "qq에 pp를 덮어쓴다. pp의 데이터가 보존된다\n"
     ]
    },
    {
     "data": {
      "text/plain": [
       "{'his': 0, 'her': 10, 'they': 20, 'you': 80, 'me': 90, 'she': 70, 'he': 60}"
      ]
     },
     "execution_count": 144,
     "metadata": {},
     "output_type": "execute_result"
    }
   ],
   "source": [
    "# 서로 다른 두 딕셔너리 합치기 간단한 버젼\n",
    "pp = {'you':80,'me':90,'she':70,'he':60}\n",
    "qq = {'his':0,'her':10,'they':20,'you':30}\n",
    "print(\"qq에 pp를 덮어쓴다. pp의 데이터가 보존된다\")\n",
    "dict(qq,**pp)"
   ]
  },
  {
   "cell_type": "markdown",
   "metadata": {},
   "source": [
    "## <다양한 자료형> 집합(set)  \n",
    "  \n",
    "  \n",
    "set 즉 집합 자료형은 중복을 허용하지 않고 순서가 없어 인덱싱이 불가하다  \n",
    "\n",
    "set은 중복을 원하지 않고나 교집합을 구하는 등의 상황에서 많이 쓰인다"
   ]
  },
  {
   "cell_type": "code",
   "execution_count": 148,
   "metadata": {},
   "outputs": [],
   "source": [
    "#빈 집합 만들기\n",
    "set_1 = set()"
   ]
  },
  {
   "cell_type": "code",
   "execution_count": 160,
   "metadata": {},
   "outputs": [
    {
     "name": "stdout",
     "output_type": "stream",
     "text": [
      "set()\n",
      "{1, 2, 3, 4}\n",
      "{8, 5, 6, 7}\n",
      "{'o', 'l', 'e', 'w', 'h'}\n",
      "{1, 2, 3}\n"
     ]
    }
   ],
   "source": [
    "set_2 = {1,2,3,4}\n",
    "set_3 = set([5,6,7,8])\n",
    "set_4 = set(\"hellow\")\n",
    "set_5 = set((1,2,3,2))\n",
    "print(set_1)\n",
    "print(set_2)\n",
    "print(set_3)\n",
    "print(set_4)\n",
    "print(set_5)"
   ]
  },
  {
   "cell_type": "markdown",
   "metadata": {},
   "source": [
    "교집합 구하기 ( & 혹은 intersection() )"
   ]
  },
  {
   "cell_type": "code",
   "execution_count": 154,
   "metadata": {},
   "outputs": [
    {
     "data": {
      "text/plain": [
       "{1, 2, 3}"
      ]
     },
     "execution_count": 154,
     "metadata": {},
     "output_type": "execute_result"
    }
   ],
   "source": [
    "set_2.intersection(set_5)"
   ]
  },
  {
   "cell_type": "code",
   "execution_count": 155,
   "metadata": {
    "scrolled": true
   },
   "outputs": [
    {
     "data": {
      "text/plain": [
       "set()"
      ]
     },
     "execution_count": 155,
     "metadata": {},
     "output_type": "execute_result"
    }
   ],
   "source": [
    "set_2.intersection(set_3)"
   ]
  },
  {
   "cell_type": "markdown",
   "metadata": {},
   "source": [
    "합집합 구하기 ( | 혹은 union())"
   ]
  },
  {
   "cell_type": "code",
   "execution_count": 156,
   "metadata": {},
   "outputs": [
    {
     "data": {
      "text/plain": [
       "{1, 2, 3, 4, 5, 6, 7, 8}"
      ]
     },
     "execution_count": 156,
     "metadata": {},
     "output_type": "execute_result"
    }
   ],
   "source": [
    "set_2.union(set_3)"
   ]
  },
  {
   "cell_type": "code",
   "execution_count": 157,
   "metadata": {},
   "outputs": [
    {
     "data": {
      "text/plain": [
       "{1, 2, 3, 4, 'e', 'h', 'l', 'o', 'w'}"
      ]
     },
     "execution_count": 157,
     "metadata": {},
     "output_type": "execute_result"
    }
   ],
   "source": [
    "set_2.union(set_4)"
   ]
  },
  {
   "cell_type": "markdown",
   "metadata": {},
   "source": [
    "차집합 구하기 ( - 혹은 difference())"
   ]
  },
  {
   "cell_type": "code",
   "execution_count": 158,
   "metadata": {},
   "outputs": [
    {
     "data": {
      "text/plain": [
       "{4}"
      ]
     },
     "execution_count": 158,
     "metadata": {},
     "output_type": "execute_result"
    }
   ],
   "source": [
    "set_2 - set_5"
   ]
  },
  {
   "cell_type": "code",
   "execution_count": 159,
   "metadata": {},
   "outputs": [
    {
     "data": {
      "text/plain": [
       "{4}"
      ]
     },
     "execution_count": 159,
     "metadata": {},
     "output_type": "execute_result"
    }
   ],
   "source": [
    "set_2.difference(set_5)"
   ]
  },
  {
   "cell_type": "markdown",
   "metadata": {},
   "source": [
    "대칭 차집합 구하기 ( ^ 혹은 symmetric_difference() )"
   ]
  },
  {
   "cell_type": "code",
   "execution_count": 165,
   "metadata": {},
   "outputs": [
    {
     "data": {
      "text/plain": [
       "{1, 5, 9, 10}"
      ]
     },
     "execution_count": 165,
     "metadata": {},
     "output_type": "execute_result"
    }
   ],
   "source": [
    "set_6 = {2,3,4,5,9,10}\n",
    "set_2 ^ set_6"
   ]
  },
  {
   "cell_type": "markdown",
   "metadata": {},
   "source": [
    "요소 추가하기 (add() 함수)"
   ]
  },
  {
   "cell_type": "code",
   "execution_count": 161,
   "metadata": {},
   "outputs": [
    {
     "data": {
      "text/plain": [
       "{5, 6, 7, 8, 11}"
      ]
     },
     "execution_count": 161,
     "metadata": {},
     "output_type": "execute_result"
    }
   ],
   "source": [
    "set_3.add(11)\n",
    "set_3"
   ]
  },
  {
   "cell_type": "markdown",
   "metadata": {},
   "source": [
    "요소 삭제하기 ( remove() 혹은 discard() )"
   ]
  },
  {
   "cell_type": "code",
   "execution_count": 162,
   "metadata": {},
   "outputs": [
    {
     "data": {
      "text/plain": [
       "{5, 6, 8, 11}"
      ]
     },
     "execution_count": 162,
     "metadata": {},
     "output_type": "execute_result"
    }
   ],
   "source": [
    "set_3.remove(7)\n",
    "set_3"
   ]
  },
  {
   "cell_type": "code",
   "execution_count": 167,
   "metadata": {
    "scrolled": true
   },
   "outputs": [
    {
     "data": {
      "text/plain": [
       "{6, 8, 11}"
      ]
     },
     "execution_count": 167,
     "metadata": {},
     "output_type": "execute_result"
    }
   ],
   "source": [
    "set_3.discard(5)\n",
    "set_3"
   ]
  },
  {
   "cell_type": "markdown",
   "metadata": {},
   "source": [
    "## <튜플 간단하게~ >\n",
    "튜플은 내부 요소의 변형이 불가해서 내장된 함수가 2개뿐  \n",
    "count() : 해당 요소 개수 세기  \n",
    "index() : 해당 요소 index 반환  \n"
   ]
  },
  {
   "cell_type": "code",
   "execution_count": 170,
   "metadata": {
    "scrolled": true
   },
   "outputs": [
    {
     "name": "stdout",
     "output_type": "stream",
     "text": [
      "[1, 2, 3, 4, 5, 5, 4, 3, 2, 1]\n",
      "(1, 2, 3, 4, 5, 5, 4, 3, 2, 1)\n"
     ]
    }
   ],
   "source": [
    "tu1 = (1,2,3,4,5)\n",
    "tu2 = (5,4,3,2,1)\n",
    "xxxxxx = list(tu1)+list(tu2)\n",
    "yyyyyy = tu1+tu2\n",
    "print(xxxxxx)\n",
    "print(yyyyyy)"
   ]
  },
  {
   "cell_type": "markdown",
   "metadata": {},
   "source": [
    "## < zip() 함수 >"
   ]
  },
  {
   "cell_type": "markdown",
   "metadata": {},
   "source": [
    "동일한 개수로 이루어진 자료형을 묶어 주는 역할\n"
   ]
  },
  {
   "cell_type": "code",
   "execution_count": 172,
   "metadata": {},
   "outputs": [
    {
     "name": "stdout",
     "output_type": "stream",
     "text": [
      "[(11, 'aa'), (22, 'bb'), (33, 'cc'), (44, 'dd')]\n",
      "(22, 'bb')\n"
     ]
    }
   ],
   "source": [
    "lista = [11,22,33,44]\n",
    "listb = ['aa','bb','cc','dd']\n",
    "\n",
    "ziplist = list(zip(lista,listb))\n",
    "print(ziplist)\n",
    "print(ziplist[1])"
   ]
  }
 ],
 "metadata": {
  "kernelspec": {
   "display_name": "Python 3",
   "language": "python",
   "name": "python3"
  },
  "language_info": {
   "codemirror_mode": {
    "name": "ipython",
    "version": 3
   },
   "file_extension": ".py",
   "mimetype": "text/x-python",
   "name": "python",
   "nbconvert_exporter": "python",
   "pygments_lexer": "ipython3",
   "version": "3.7.6"
  }
 },
 "nbformat": 4,
 "nbformat_minor": 4
}
